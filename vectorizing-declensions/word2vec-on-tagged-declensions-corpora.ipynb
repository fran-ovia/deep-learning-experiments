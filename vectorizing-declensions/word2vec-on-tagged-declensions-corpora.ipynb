{
 "cells": [
  {
   "cell_type": "markdown",
   "metadata": {},
   "source": [
    "# Word2Vec on declensions corpora\n",
    "© Francisco Javier Oviamionayi, 2017\n",
    "\n",
    "Using handmade corpora of Basque declensions"
   ]
  },
  {
   "cell_type": "markdown",
   "metadata": {},
   "source": [
    "## 0. Dependencies"
   ]
  },
  {
   "cell_type": "code",
   "execution_count": 1,
   "metadata": {},
   "outputs": [
    {
     "name": "stdout",
     "output_type": "stream",
     "text": [
      "Populating the interactive namespace from numpy and matplotlib\n"
     ]
    }
   ],
   "source": [
    "import glob                          # Finding pathnames matching a pattern\n",
    "import os                            # Accessing the filesystem\n",
    "import multiprocessing               # Concurrency\n",
    "import gensim.models.word2vec as w2v # Word2Vec\n",
    "import sklearn.manifold              # Dimensionality reduction\n",
    "import pandas as pd                  # Plotting data\n",
    "import seaborn as sns                # Visualization\n",
    "\n",
    "%pylab inline"
   ]
  },
  {
   "cell_type": "markdown",
   "metadata": {},
   "source": [
    "## 1. Input data"
   ]
  },
  {
   "cell_type": "code",
   "execution_count": 2,
   "metadata": {},
   "outputs": [
    {
     "name": "stdout",
     "output_type": "stream",
     "text": [
      "Will get data from the following files:\n",
      "['data/declensions.eus.txt']\n"
     ]
    }
   ],
   "source": [
    "# 1.1 DEFINE FILES FOR INPUT DATA\n",
    "#\n",
    "# Input data will be a txt file, where each line contains a declensed word and associated data:\n",
    "# undeclensed_word, declensed_word, grammatic_cases\n",
    "# (grammatic cases are keywords with # prefix: such as #genitive, #comitative, etc)\n",
    "# The language I'm using is Basque, for which I think declension vectorization is very useful, since:\n",
    "#  - It makes extensive use of declensions\n",
    "#  - It is an ergative language, which means getting declensions right is even more critical\n",
    "#  - Additionally, different declensions overlap, so context is already needed for disambiguation among overlapping\n",
    "#    declensed words. This makes it very difficult for statistical translation to get declensions right using context alone\n",
    "#  - Basque is not widely used, which makes it more difficult to get large corpora for training\n",
    "declensions_txt_files = sorted(glob.glob(\"data/declensions.eus.txt\"))\n",
    "# Will get data from the following files\n",
    "print(\"Will get data from the following files:\")\n",
    "print(declensions_txt_files)"
   ]
  },
  {
   "cell_type": "code",
   "execution_count": 3,
   "metadata": {},
   "outputs": [
    {
     "name": "stdout",
     "output_type": "stream",
     "text": [
      "We have 28 sentences and 86 words\n",
      "['ni', 'ni', '#absolutive']\n",
      "['ni', 'nik', '#ergative']\n",
      "['ni', 'niri', '#dative']\n",
      "['ni', 'nire', '#genitive']\n"
     ]
    }
   ],
   "source": [
    "# 1.2 PREPROCESS INPUT DATA\n",
    "\n",
    "def read_raw_sentences_from_txt_files(filepaths):\n",
    "    for filepath in filepaths:\n",
    "        with open(filepath, 'r') as file:\n",
    "            for line in filter(lambda line: len(line)>0, map(lambda line: line.rstrip(), file)):\n",
    "                yield line\n",
    "                \n",
    "# Get all the raw sentences from the input files\n",
    "raw_sentences = read_raw_sentences_from_txt_files(declensions_txt_files)\n",
    "# Convert each line into a list of words (we will call each list of words a \"sentence\")\n",
    "sentences = map(lambda line: line.split(' '), raw_sentences)\n",
    "# We convert the lazy iterator into a list\n",
    "sentences = list(sentences)\n",
    "# Count lines and words\n",
    "sentence_count = len(sentences)\n",
    "word_count = sum([len(sentence) for sentence in sentences])\n",
    "print('We have {0} sentences and {1} words'.format(sentence_count, word_count))\n",
    "# Print an example\n",
    "for sentence in sentences[:4]:\n",
    "    print(sentence)\n",
    "# The sentences are somwhat unique, with no repeated declensions, but we want Word2Vec to take them into consideration\n",
    "# so we replicate them\n",
    "sentences = sentences*10"
   ]
  },
  {
   "cell_type": "markdown",
   "metadata": {},
   "source": [
    "The text corpora we are using contains the pronouns and their possible declensions, where each line takes the following format of the sentences is:\n",
    "\n",
    "undeclensed_pronoun declensed_pronoun grammatical_case_tags\n",
    "\n",
    "This kind of corpora is a sort of tagged corpora (where the tags refer to grammatical cases). Tagged corpora is not a new concept, as it was used in the 1960s' Brown Corpus (https://en.wikipedia.org/wiki/Brown_Corpus) by Brown University in order to implement Part-of-speech tagging. In this experiment we are applying grammatic case tags as additional inputs for modern vector embedding Word2Vec algorithm.\n",
    "\n",
    "Note that we are not trying to implement Part-of-speech tagging itself, but just to include grammatic-case info into the embedding vectors, so they will contain much more information (dimensions that are specific to declensions), which can subsequently be used by a neural network to implement not only Part-of-speech tagging but any Natural Language Processing task."
   ]
  },
  {
   "cell_type": "markdown",
   "metadata": {},
   "source": [
    "## 2. Building our Word2Vec model"
   ]
  },
  {
   "cell_type": "code",
   "execution_count": 4,
   "metadata": {
    "collapsed": true
   },
   "outputs": [],
   "source": [
    "# 2. BUILD OUR WORD2VEC MODEL\n",
    "\n",
    "# Hyperparameters for Word2Vec\n",
    "num_features = 11                         # Dimensionality of the resulting word vectors.\n",
    "min_word_count = 3                        # Minimum word count threshold.\n",
    "num_workers = multiprocessing.cpu_count() # Number of threads to run in parallel.\n",
    "context_size = 3                          # Context window length.\n",
    "downsampling = 0                          # Downsample setting for frequent words.\n",
    "seed = 1                                  # Seed for the RNG, to make the results reproducible.\n",
    "# Now we create the model\n",
    "w2v_model = w2v.Word2Vec(\n",
    "    sg=1,\n",
    "    seed=seed,\n",
    "    workers=num_workers,\n",
    "    size=num_features,\n",
    "    min_count=min_word_count,\n",
    "    window=context_size,\n",
    "    sample=downsampling\n",
    ")"
   ]
  },
  {
   "cell_type": "markdown",
   "metadata": {},
   "source": [
    "## 3. Training the model"
   ]
  },
  {
   "cell_type": "code",
   "execution_count": 5,
   "metadata": {},
   "outputs": [
    {
     "name": "stdout",
     "output_type": "stream",
     "text": [
      "Word2Vec vocabulary length:  33\n"
     ]
    }
   ],
   "source": [
    "# 3.1 BUILDING VOCABULARY\n",
    "w2v_model.build_vocab(sentences)\n",
    "print(\"Word2Vec vocabulary length: \", len(w2v_model.wv.vocab))"
   ]
  },
  {
   "cell_type": "code",
   "execution_count": 6,
   "metadata": {},
   "outputs": [
    {
     "data": {
      "text/plain": [
       "4300"
      ]
     },
     "execution_count": 6,
     "metadata": {},
     "output_type": "execute_result"
    }
   ],
   "source": [
    "# 3.2 TRAINING THE MODEL\n",
    "w2v_model.train(sentences, total_examples=w2v_model.corpus_count, epochs=w2v_model.iter)\n",
    "#w2v_model.train(sentences, total_examples=w2v_model.corpus_count, epochs=15)"
   ]
  },
  {
   "cell_type": "code",
   "execution_count": 7,
   "metadata": {
    "collapsed": true
   },
   "outputs": [],
   "source": [
    "# 3.3 SAVING THE MODEL\n",
    "if not os.path.exists(\"trained\"):\n",
    "    os.makedirs(\"trained\")\n",
    "w2v_model.save(os.path.join(\"trained\", \"w2v_model.w2v\"))"
   ]
  },
  {
   "cell_type": "markdown",
   "metadata": {},
   "source": [
    "## 4. Testing the model"
   ]
  },
  {
   "cell_type": "code",
   "execution_count": 8,
   "metadata": {
    "collapsed": true
   },
   "outputs": [],
   "source": [
    "# 4.1 LOADING THE MODEL\n",
    "w2v_model = w2v.Word2Vec.load(os.path.join(\"trained\", \"w2v_model.w2v\"))"
   ]
  },
  {
   "cell_type": "code",
   "execution_count": 9,
   "metadata": {
    "collapsed": true
   },
   "outputs": [],
   "source": [
    "# 4.2 Squash dimensionality to 2\n",
    "# https://www.oreilly.com/learning/an-illustrated-introduction-to-the-t-sne-algorithm\n",
    "tsne = sklearn.manifold.TSNE(n_components=2, random_state=0)"
   ]
  },
  {
   "cell_type": "code",
   "execution_count": 10,
   "metadata": {
    "collapsed": true
   },
   "outputs": [],
   "source": [
    "# 4.3 Put it all into a giant matrix\n",
    "all_word_vectors_matrix = w2v_model.wv.syn0"
   ]
  },
  {
   "cell_type": "code",
   "execution_count": 11,
   "metadata": {
    "collapsed": true
   },
   "outputs": [],
   "source": [
    "# 4.4 Train t-SNE\n",
    "all_word_vectors_matrix_2d = tsne.fit_transform(all_word_vectors_matrix)"
   ]
  },
  {
   "cell_type": "code",
   "execution_count": 12,
   "metadata": {
    "collapsed": true
   },
   "outputs": [],
   "source": [
    "# 4.5 Defining points to plot in 2D space\n",
    "points = pd.DataFrame(\n",
    "    [\n",
    "        (word, coords[0], coords[1])\n",
    "        for word, coords in [\n",
    "            (word, all_word_vectors_matrix_2d[w2v_model.wv.vocab[word].index])\n",
    "            for word in w2v_model.wv.vocab\n",
    "        ]\n",
    "    ],\n",
    "    columns=[\"word\", \"x\", \"y\"]\n",
    ")"
   ]
  },
  {
   "cell_type": "code",
   "execution_count": 13,
   "metadata": {},
   "outputs": [
    {
     "data": {
      "text/html": [
       "<div>\n",
       "<style>\n",
       "    .dataframe thead tr:only-child th {\n",
       "        text-align: right;\n",
       "    }\n",
       "\n",
       "    .dataframe thead th {\n",
       "        text-align: left;\n",
       "    }\n",
       "\n",
       "    .dataframe tbody tr th {\n",
       "        vertical-align: top;\n",
       "    }\n",
       "</style>\n",
       "<table border=\"1\" class=\"dataframe\">\n",
       "  <thead>\n",
       "    <tr style=\"text-align: right;\">\n",
       "      <th></th>\n",
       "      <th>word</th>\n",
       "      <th>x</th>\n",
       "      <th>y</th>\n",
       "    </tr>\n",
       "  </thead>\n",
       "  <tbody>\n",
       "    <tr>\n",
       "      <th>0</th>\n",
       "      <td>#absolutive</td>\n",
       "      <td>-96.429955</td>\n",
       "      <td>73.790742</td>\n",
       "    </tr>\n",
       "    <tr>\n",
       "      <th>1</th>\n",
       "      <td>hark</td>\n",
       "      <td>62.888025</td>\n",
       "      <td>-17.233820</td>\n",
       "    </tr>\n",
       "    <tr>\n",
       "      <th>2</th>\n",
       "      <td>guk</td>\n",
       "      <td>-41.326415</td>\n",
       "      <td>-49.667168</td>\n",
       "    </tr>\n",
       "    <tr>\n",
       "      <th>3</th>\n",
       "      <td>#ergative</td>\n",
       "      <td>-44.177453</td>\n",
       "      <td>-93.643874</td>\n",
       "    </tr>\n",
       "    <tr>\n",
       "      <th>4</th>\n",
       "      <td>zuek</td>\n",
       "      <td>116.623339</td>\n",
       "      <td>67.891412</td>\n",
       "    </tr>\n",
       "    <tr>\n",
       "      <th>5</th>\n",
       "      <td>ni</td>\n",
       "      <td>17.004602</td>\n",
       "      <td>117.800249</td>\n",
       "    </tr>\n",
       "    <tr>\n",
       "      <th>6</th>\n",
       "      <td>#dative</td>\n",
       "      <td>-73.840569</td>\n",
       "      <td>-25.028538</td>\n",
       "    </tr>\n",
       "    <tr>\n",
       "      <th>7</th>\n",
       "      <td>haiek</td>\n",
       "      <td>81.123576</td>\n",
       "      <td>20.585871</td>\n",
       "    </tr>\n",
       "    <tr>\n",
       "      <th>8</th>\n",
       "      <td>zuri</td>\n",
       "      <td>50.603756</td>\n",
       "      <td>90.145565</td>\n",
       "    </tr>\n",
       "    <tr>\n",
       "      <th>9</th>\n",
       "      <td>nire</td>\n",
       "      <td>29.325708</td>\n",
       "      <td>-87.401940</td>\n",
       "    </tr>\n",
       "  </tbody>\n",
       "</table>\n",
       "</div>"
      ],
      "text/plain": [
       "          word           x           y\n",
       "0  #absolutive  -96.429955   73.790742\n",
       "1         hark   62.888025  -17.233820\n",
       "2          guk  -41.326415  -49.667168\n",
       "3    #ergative  -44.177453  -93.643874\n",
       "4         zuek  116.623339   67.891412\n",
       "5           ni   17.004602  117.800249\n",
       "6      #dative  -73.840569  -25.028538\n",
       "7        haiek   81.123576   20.585871\n",
       "8         zuri   50.603756   90.145565\n",
       "9         nire   29.325708  -87.401940"
      ]
     },
     "execution_count": 13,
     "metadata": {},
     "output_type": "execute_result"
    }
   ],
   "source": [
    "# 4.6 Let's have a look at the points in 2D space\n",
    "points.head(10)"
   ]
  },
  {
   "cell_type": "code",
   "execution_count": 14,
   "metadata": {
    "collapsed": true
   },
   "outputs": [],
   "source": [
    "# 4.7 Configuring Seaborn plotting\n",
    "sns.set_context(\"poster\")"
   ]
  },
  {
   "cell_type": "code",
   "execution_count": 15,
   "metadata": {},
   "outputs": [
    {
     "data": {
      "text/plain": [
       "<matplotlib.axes._subplots.AxesSubplot at 0x7ff1bc79a470>"
      ]
     },
     "execution_count": 15,
     "metadata": {},
     "output_type": "execute_result"
    },
    {
     "name": "stderr",
     "output_type": "stream",
     "text": [
      "/usr/local/lib/python3.5/dist-packages/matplotlib/font_manager.py:1297: UserWarning: findfont: Font family ['sans-serif'] not found. Falling back to DejaVu Sans\n",
      "  (prop.get_family(), self.defaultFamily[fontext]))\n"
     ]
    },
    {
     "data": {
      "image/png": "[encoded data removed]",
      "text/plain": [
       "<matplotlib.figure.Figure at 0x7ff1bc79a6a0>"
      ]
     },
     "metadata": {},
     "output_type": "display_data"
    }
   ],
   "source": [
    "# 4.8 Let's have a look at all the vectors\n",
    "points.plot.scatter(\"x\", \"y\", s=10, figsize=(20, 12))"
   ]
  },
  {
   "cell_type": "code",
   "execution_count": 16,
   "metadata": {
    "collapsed": true
   },
   "outputs": [],
   "source": [
    "# 4.9 Defining a function to plot not all the vector space but just a region\n",
    "def plot_region(x_bounds, y_bounds):\n",
    "    slice = points[\n",
    "        (x_bounds[0] <= points.x) &\n",
    "        (points.x <= x_bounds[1]) & \n",
    "        (y_bounds[0] <= points.y) &\n",
    "        (points.y <= y_bounds[1])\n",
    "    ]\n",
    "    \n",
    "    ax = slice.plot.scatter(\"x\", \"y\", s=35, figsize=(10, 8))\n",
    "    for i, point in slice.iterrows():\n",
    "        ax.text(point.x + 0.005, point.y + 0.005, point.word, fontsize=11)"
   ]
  },
  {
   "cell_type": "code",
   "execution_count": 17,
   "metadata": {},
   "outputs": [
    {
     "name": "stderr",
     "output_type": "stream",
     "text": [
      "/usr/local/lib/python3.5/dist-packages/matplotlib/font_manager.py:1297: UserWarning: findfont: Font family ['sans-serif'] not found. Falling back to DejaVu Sans\n",
      "  (prop.get_family(), self.defaultFamily[fontext]))\n"
     ]
    },
    {
     "data": {
      "image/png": "[encoded data removed]",
      "text/plain": [
       "<matplotlib.figure.Figure at 0x7ff1b9213e48>"
      ]
     },
     "metadata": {},
     "output_type": "display_data"
    }
   ],
   "source": [
    "# 4.10. Let's have a look at most of the embedding vectors.\n",
    "# As we will see, the neighbouring words are related through either common declension or same pronoun (but different declension)\n",
    "plot_region(x_bounds=(-200, 200), y_bounds=(-200, 200))"
   ]
  },
  {
   "cell_type": "code",
   "execution_count": 18,
   "metadata": {},
   "outputs": [
    {
     "data": {
      "text/plain": [
       "[('nik', 0.9683747291564941),\n",
       " ('zure', 0.9663078784942627),\n",
       " ('zurekin', 0.9598204493522644),\n",
       " ('zuri', 0.9577801823616028),\n",
       " ('guk', 0.9576573371887207),\n",
       " ('hark', 0.9459083080291748),\n",
       " ('haiekin', 0.9312465786933899),\n",
       " ('nirekin', 0.9150515794754028),\n",
       " ('niri', 0.9114317893981934),\n",
       " ('nire', 0.9082954525947571)]"
      ]
     },
     "execution_count": 18,
     "metadata": {},
     "output_type": "execute_result"
    }
   ],
   "source": [
    "# 4.11 Similarities for \"zuk\". First 6 ones share either the same pronoun or the same grammatical case. Good!\n",
    "w2v_model.most_similar(\"zuk\")"
   ]
  },
  {
   "cell_type": "code",
   "execution_count": 19,
   "metadata": {},
   "outputs": [
    {
     "data": {
      "text/plain": [
       "[('guri', 0.980905294418335),\n",
       " ('gure', 0.9693418741226196),\n",
       " ('guk', 0.963940441608429),\n",
       " ('zuei', 0.9604324102401733),\n",
       " ('haiekin', 0.9585168361663818),\n",
       " ('zuekin', 0.9552578330039978),\n",
       " ('zurekin', 0.9530965089797974),\n",
       " ('zuen', 0.9360567331314087),\n",
       " ('harekin', 0.9347277879714966),\n",
       " ('zuri', 0.9315460920333862)]"
      ]
     },
     "execution_count": 19,
     "metadata": {},
     "output_type": "execute_result"
    }
   ],
   "source": [
    "# 4.12 Similarities for \"gurekin\". 1st to 3rd and 5th to 7th share either the same pronoun or the same grammatical case. Not bad\n",
    "w2v_model.most_similar(\"gurekin\")"
   ]
  },
  {
   "cell_type": "code",
   "execution_count": 20,
   "metadata": {
    "collapsed": true
   },
   "outputs": [],
   "source": [
    "# 4.13 Defining a function to test relationships\n",
    "def nearest_similarity_cosmul(start1, end1, end2):\n",
    "    similarities = w2v_model.most_similar_cosmul(\n",
    "        positive=[end2, start1],\n",
    "        negative=[end1]\n",
    "    )\n",
    "    start2 = similarities[0][0]\n",
    "    print(\"{start1} is related to {end1}, as {start2} is related to {end2}\".format(**locals()))\n",
    "    return start2"
   ]
  },
  {
   "cell_type": "code",
   "execution_count": 21,
   "metadata": {},
   "outputs": [
    {
     "name": "stdout",
     "output_type": "stream",
     "text": [
      "nik is related to ni, as zuk is related to zu\n",
      "hura is related to hark, as ni is related to nik\n",
      "gure is related to zure, as guri is related to zuri\n",
      "zu is related to gu, as zure is related to gurekin\n",
      "haiekin is related to haien, as zurekin is related to zure\n"
     ]
    },
    {
     "data": {
      "text/plain": [
       "'zurekin'"
      ]
     },
     "execution_count": 21,
     "metadata": {},
     "output_type": "execute_result"
    }
   ],
   "source": [
    "# 4.14 Testing relationships across different dimensions. 5 tests, all correct but the 4th one. Quite decent\n",
    "nearest_similarity_cosmul(\"nik\", \"ni\", \"zu\")\n",
    "nearest_similarity_cosmul(\"hura\", \"hark\", \"nik\")\n",
    "nearest_similarity_cosmul(\"gure\", \"zure\", \"zuri\")\n",
    "nearest_similarity_cosmul(\"zu\", \"gu\", \"gurekin\")\n",
    "nearest_similarity_cosmul(\"haiekin\", \"haien\", \"zure\")"
   ]
  },
  {
   "cell_type": "code",
   "execution_count": 22,
   "metadata": {},
   "outputs": [
    {
     "name": "stdout",
     "output_type": "stream",
     "text": [
      "haiei is related to haiek, as zuri is related to zu\n"
     ]
    },
    {
     "data": {
      "text/plain": [
       "'zuri'"
      ]
     },
     "execution_count": 22,
     "metadata": {},
     "output_type": "execute_result"
    }
   ],
   "source": [
    "# 4.15 One more test with  3rd person of plural, in which different declensions overlap\n",
    "#  so our word vectorization could be confused. But working this time!\n",
    "nearest_similarity_cosmul(\"haiei\", \"haiek\", \"zu\")"
   ]
  },
  {
   "cell_type": "code",
   "execution_count": null,
   "metadata": {
    "collapsed": true
   },
   "outputs": [],
   "source": []
  }
 ],
 "metadata": {
  "kernelspec": {
   "display_name": "Python 3",
   "language": "python",
   "name": "python3"
  },
  "language_info": {
   "codemirror_mode": {
    "name": "ipython",
    "version": 3
   },
   "file_extension": ".py",
   "mimetype": "text/x-python",
   "name": "python",
   "nbconvert_exporter": "python",
   "pygments_lexer": "ipython3",
   "version": "3.5.2"
  }
 },
 "nbformat": 4,
 "nbformat_minor": 2
}
